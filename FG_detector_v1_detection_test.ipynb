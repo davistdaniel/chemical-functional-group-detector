{
  "nbformat": 4,
  "nbformat_minor": 0,
  "metadata": {
    "colab": {
      "name": "FG_detector_v1_detection_test.ipynb",
      "provenance": [],
      "collapsed_sections": []
    },
    "kernelspec": {
      "name": "python3",
      "display_name": "Python 3"
    }
  },
  "cells": [
    {
      "cell_type": "markdown",
      "metadata": {
        "id": "YdvPYgoocfoa",
        "colab_type": "text"
      },
      "source": [
        "# FG_Detector_v1\n",
        "**An organic functional group detector using Tensorflow's object detection API.**\n",
        "\n",
        "By **Davis Thomas Daniel**\n",
        "\n",
        "Email :  forall2087@gmail.com\n",
        "\n",
        "\n",
        "In organic chemistry, [functional groups](https://en.wikipedia.org/wiki/Functional_group) are specific substituents or moieties \n",
        "within molecules that may be responsible for the characteristic chemical reactions of those molecules.\n",
        "\n",
        "FG detector is chemical fucntional group object detector based on Tensorflow object detection API. \n",
        "The detection model was trained using transfer learning from 'ssd_efficientdet_d0_512x512_coco17_tpu-8'.  \n",
        "\n",
        "The training dataset comprised of 300x300 sized .png images from PubChem.\n",
        "Currently, the model detects the following groups : \n",
        "* Alcohol\n",
        "* Aldehyde\n",
        "* Amine\n",
        "* Amide\n",
        "* Carboxylic Acid\n",
        "* Ester\n",
        "* Ether\n",
        "* Ketone\n",
        "* Double bonds\n",
        "* Benzene Ring\n",
        "* Halogen\n",
        "* Thiol\n",
        "\n",
        "\n",
        "*Use shift+enter to run each cell, Run all cells.*\n",
        "\n",
        "1. Don't change an of the defined paths.\n",
        "2. The function `detect_fg()` downloads an image from pubchem if no filepath is given. Of course, you can also run with an image path specified. Two examples runs are done at the end.\n",
        "3. All cells should be run sequentially and should not give out any errors.\n",
        "4. Changing the runtime to 'GPU' is not really necessary. \n",
        "\n",
        "*Detection time with GPU : ~0.06s*\n",
        "\n",
        "*Detection time without GPU : ~0.40s* \n",
        "\n",
        "Note : I use `pubchempy` module for getting the PubChem images. Here's is the github [page](https://github.com/mcs07/PubChemPy)."
      ]
    },
    {
      "cell_type": "markdown",
      "metadata": {
        "id": "k8JclnzOdULV",
        "colab_type": "text"
      },
      "source": [
        "### **Download all required files and repositories.**\n"
      ]
    },
    {
      "cell_type": "code",
      "metadata": {
        "id": "G-t0hsxkb9G4",
        "colab_type": "code",
        "colab": {}
      },
      "source": [
        "!pip install pubchempy\n",
        "import os\n",
        "import pathlib\n",
        "\n",
        "# Clone the tensorflow models repository if it doesn't already exist\n",
        "if \"models\" in pathlib.Path.cwd().parts:\n",
        "  while \"models\" in pathlib.Path.cwd().parts:\n",
        "    os.chdir('..')\n",
        "elif not pathlib.Path('models').exists():\n",
        "  !git clone --depth 1 https://github.com/davistdaniel/models"
      ],
      "execution_count": null,
      "outputs": []
    },
    {
      "cell_type": "markdown",
      "metadata": {
        "id": "SxLhD7lQd_tt",
        "colab_type": "text"
      },
      "source": [
        "### **Set up the object detection API**"
      ]
    },
    {
      "cell_type": "code",
      "metadata": {
        "id": "ZEXlnbBUd6_3",
        "colab_type": "code",
        "colab": {}
      },
      "source": [
        "%%bash\n",
        "cd models/research/\n",
        "protoc object_detection/protos/*.proto --python_out=.\n",
        "cp object_detection/packages/tf2/setup.py .\n",
        "python -m pip install .\n",
        "\n",
        "# Expect a Long output,many warnings,Never mind unless it shows errors."
      ],
      "execution_count": null,
      "outputs": []
    },
    {
      "cell_type": "markdown",
      "metadata": {
        "id": "KaBw8XtUeTik",
        "colab_type": "text"
      },
      "source": [
        "### **Download the trained model**"
      ]
    },
    {
      "cell_type": "code",
      "metadata": {
        "id": "WOP5_HxVeE3e",
        "colab_type": "code",
        "colab": {}
      },
      "source": [
        "!rm -rf /content/Functional_Group_Detector_using_Tensorflow_object_detection\n",
        "!git clone https://github.com/davistdaniel/Functional_Group_Detector_using_Tensorflow_object_detection.git"
      ],
      "execution_count": null,
      "outputs": []
    },
    {
      "cell_type": "code",
      "metadata": {
        "id": "7LeK14ECgqrf",
        "colab_type": "code",
        "colab": {}
      },
      "source": [
        "# Don't change these paths.\n",
        "checkpoint_dir = '/content/Functional_Group_Detector_using_Tensorflow_object_detection/EXPORTED_model_based_on_ssd_efficientdet_d0_512x512_coco17_tpu-8/checkpoint' # enther saved models checkpoint path here.\n",
        "pipeline_file = '/content/Functional_Group_Detector_using_Tensorflow_object_detection/EXPORTED_model_based_on_ssd_efficientdet_d0_512x512_coco17_tpu-8/pipeline.config' # enter saved models pipeline config path here."
      ],
      "execution_count": 4,
      "outputs": []
    },
    {
      "cell_type": "code",
      "metadata": {
        "id": "sbozQb3uiRHe",
        "colab_type": "code",
        "colab": {}
      },
      "source": [
        "\n",
        "import matplotlib\n",
        "import matplotlib.pyplot as plt\n",
        "\n",
        "import io\n",
        "import scipy.misc\n",
        "import numpy as np\n",
        "from six import BytesIO\n",
        "from PIL import Image, ImageDraw, ImageFont\n",
        "\n",
        "import tensorflow as tf\n",
        "from tensorflow import keras\n",
        "import glob\n",
        "import random\n",
        "import cv2\n",
        "import time\n",
        "import textwrap\n",
        "import pubchempy as pcp\n",
        "import shutil\n",
        "from object_detection.utils import label_map_util\n",
        "from object_detection.utils import config_util\n",
        "from object_detection.utils import visualization_utils as viz_utils\n",
        "from object_detection.builders import model_builder\n",
        "\n",
        "%matplotlib inline"
      ],
      "execution_count": 35,
      "outputs": []
    },
    {
      "cell_type": "markdown",
      "metadata": {
        "id": "SXdBEPZ-2Vqo",
        "colab_type": "text"
      },
      "source": [
        "### **Restore a saved model and define a prediction function.**"
      ]
    },
    {
      "cell_type": "markdown",
      "metadata": {
        "id": "WBE3_-4Plqc5",
        "colab_type": "text"
      },
      "source": [
        "You will see a lot of warnings in the output, never mind."
      ]
    },
    {
      "cell_type": "code",
      "metadata": {
        "id": "r8KDrZiz1lKy",
        "colab_type": "code",
        "colab": {}
      },
      "source": [
        "# Loading the trained model for detections\n",
        "\n",
        "pipeline_config = pipeline_file\n",
        "model_dir = tf.train.latest_checkpoint(checkpoint_dir)\n",
        "configs = config_util.get_configs_from_pipeline_file(pipeline_config)\n",
        "model_config = configs['model']\n",
        "detection_model = model_builder.build(\n",
        "      model_config=model_config, is_training=False)\n",
        "\n",
        "# Restore checkpoint\n",
        "ckpt = tf.compat.v2.train.Checkpoint(\n",
        "      model=detection_model)\n",
        "ckpt.restore(tf.train.latest_checkpoint(checkpoint_dir))\n",
        "\n",
        "# defining a detect function\n",
        "def get_model_detection_function(model):\n",
        "  \"\"\"Get a tf.function for detection.\"\"\"\n",
        "\n",
        "  @tf.function\n",
        "  def detect_fn(image):\n",
        "    \"\"\"Detect objects in image.\"\"\"\n",
        "\n",
        "    image, shapes = model.preprocess(image)\n",
        "    prediction_dict = model.predict(image, shapes)\n",
        "    detections = model.postprocess(prediction_dict, shapes)\n",
        "\n",
        "    return detections, prediction_dict, tf.reshape(shapes, [-1])\n",
        "\n",
        "  return detect_fn\n",
        "\n",
        "detect_fn = get_model_detection_function(detection_model)\n",
        "\n",
        "\n",
        "# This is needed for plotting.\n",
        "label_map_path = '/content/Functional_Group_Detector_using_Tensorflow_object_detection/annotations/label_map.pbtxt'\n",
        "label_map = label_map_util.load_labelmap(label_map_path)\n",
        "categories = label_map_util.convert_label_map_to_categories(\n",
        "    label_map,\n",
        "    max_num_classes=label_map_util.get_max_label_map_index(label_map),\n",
        "    use_display_name=True)\n",
        "category_index = label_map_util.create_category_index(categories)\n",
        "label_map_dict = label_map_util.get_label_map_dict(label_map, use_display_name=True)"
      ],
      "execution_count": 6,
      "outputs": []
    },
    {
      "cell_type": "markdown",
      "metadata": {
        "id": "aFeeCfc9GqLH",
        "colab_type": "text"
      },
      "source": [
        "### **A function for detection and saving at once.**"
      ]
    },
    {
      "cell_type": "code",
      "metadata": {
        "id": "t6V-DgpRGyd5",
        "colab_type": "code",
        "colab": {}
      },
      "source": [
        "def detect_fg(img_path=None,out_path = 'detected_img.png',save_file=False,threshold=0.50,save_fig=False,coumpound_id_number=None):\n",
        " \n",
        "  script_start = time.time()\n",
        "  \n",
        "  #some initial stuff\n",
        "  from prettytable import PrettyTable\n",
        "  iupacname = ''\n",
        "  \n",
        "  # selecting random molecule if img_path is None\n",
        "  if img_path==None:\n",
        " \n",
        "    ## getting a random cid.\n",
        "    cid = random.choice(range(random.choice(range(25,15000)),random.choice(range(15000,150000))))\n",
        "    c = pcp.Compound.from_cid(cid)\n",
        "    \n",
        "    ## some text printed\n",
        "    print('No image path given, selecting a random molecule from pubchem with cid : '\n",
        "    +str(cid)\n",
        "    +'\\n\\n Here are some details about the compound : \\n')\n",
        "\n",
        "    # the random molecule is downloaded.\n",
        "    pcp.download('PNG', '/content/random_compound.png', cid, overwrite=True)\n",
        "\n",
        "    # image path is set.\n",
        "    img_path = '/content/random_compound.png'\n",
        "\n",
        "    # table with chemical characteristics of the compound.\n",
        "    table0 = PrettyTable(['Property','Value'])\n",
        "    table0.add_row(['Molecular Formula',c.molecular_formula])\n",
        "    table0.add_row(['Molecular Weight',c.molecular_weight])\n",
        "    table0.add_row(['IUPAC name',textwrap.fill(c.iupac_name,25)])\n",
        "    table0.add_row(['Isomeric smiles',textwrap.fill(c.isomeric_smiles,25)])\n",
        "    print(table0)\n",
        "  \n",
        "  # if image path is not None, check if the file name only has a cid.\n",
        "  if img_path.split('/')[-1].split('.')[0].isdigit() and coumpound_id_number==None:\n",
        "    cid = int(img_path.split('/')[-1].split('.')[0])\n",
        "    print('Getting compound details for the cid number : '+str(cid)+' from PubChem.')\n",
        "    c = pcp.Compound.from_cid(cid)\n",
        "    \n",
        "    table0 = PrettyTable(['Property','Value'])\n",
        "    table0.add_row(['Molecular Formula',c.molecular_formula])\n",
        "    table0.add_row(['Molecular Weight',c.molecular_weight])\n",
        "    table0.add_row(['IUPAC name',textwrap.fill(c.iupac_name,25)])\n",
        "    table0.add_row(['Isomeric smiles',textwrap.fill(c.isomeric_smiles,25)])\n",
        "    print(table0)\n",
        "  \n",
        "  if coumpound_id_number !=None:\n",
        "    cid = coumpound_id_number\n",
        "    c = pcp.Compound.from_cid(cid)\n",
        "    print('Compound details for cid number : '+str(cid)+' obtained from PubChem\\n')\n",
        "    table0 = PrettyTable(['Property','Value'])\n",
        "    table0.add_row(['Molecular Formula',c.molecular_formula])\n",
        "    table0.add_row(['Molecular Weight',c.molecular_weight])\n",
        "    table0.add_row(['IUPAC name',textwrap.fill(c.iupac_name,25)])\n",
        "    table0.add_row(['Isomeric smiles',textwrap.fill(c.isomeric_smiles,25)])\n",
        "    print(table0)\n",
        "\n",
        "  \n",
        "  # starting detection\n",
        "  \n",
        "  \n",
        "  print('\\nDetecting on '+img_path.split('/')[-1]+'\\n')\n",
        "  \n",
        "  img = keras.preprocessing.image.load_img(img_path, target_size=None)\n",
        "  image_np = keras.preprocessing.image.img_to_array(img)\n",
        "\n",
        "  # Convert image to grayscale\n",
        "\n",
        "  image_np = np.tile(\n",
        "      np.mean(image_np, 2, keepdims=True), (1, 1, 3)).astype(np.uint8)\n",
        "  \n",
        "  #generate the input tensor\n",
        "  input_tensor = tf.convert_to_tensor(\n",
        "      np.expand_dims(image_np, 0), dtype=tf.float32)\n",
        "\n",
        "  #detect\n",
        "  start_time = time.time() # start_time\n",
        "  detections, predictions_dict, shapes = detect_fn(input_tensor)\n",
        "  end_time = time.time() # end_time\n",
        "\n",
        "  time_taken = end_time-start_time\n",
        "  #making a copy of image\n",
        "  label_id_offset = 1\n",
        "  image_np_with_detections = image_np.copy()\n",
        "\n",
        "  # setting some arrays\n",
        "  detection_scores = detections['detection_scores'][0]\n",
        "  detection_classes = detections['detection_classes'][0]\n",
        "  \n",
        "  # Making a table of detections\n",
        "  table1 = PrettyTable(['Functional Group',\n",
        "                        'Confidence (%)',\n",
        "                        'Bounding Box Coordinates'])\n",
        "  \n",
        "  for i in range(len(detection_scores)):\n",
        "    if detection_scores[i].numpy() > threshold:\n",
        "      table1.add_row([category_index[detection_classes[i].numpy()+1]['name'],\n",
        "                      detection_scores[i].numpy()*100,\n",
        "                      str(np.round(detections['detection_boxes'][0].numpy()[i]*100,3))])\n",
        "      \n",
        "      # legend_array.append(category_index[detection_classes[i].numpy()+1]['name']\n",
        "      #       +' : '+str(detection_scores[i].numpy()*100))\n",
        "      # print(category_index[detection_classes[i].numpy()+1]['name']\n",
        "      #       +' : '+str(detection_scores[i].numpy()*100)+' : '+str(np.round(detections['detection_boxes'][0].numpy()[i]*100,3)))\n",
        "  \n",
        "  print(table1)   \n",
        "  \n",
        "  \n",
        "  #plotting\n",
        "  img_detected = viz_utils.visualize_boxes_and_labels_on_image_array(\n",
        "        image_np_with_detections,\n",
        "        detections['detection_boxes'][0].numpy(),\n",
        "        (detections['detection_classes'][0].numpy() + label_id_offset).astype(int),\n",
        "        detections['detection_scores'][0].numpy(),\n",
        "        category_index,\n",
        "        use_normalized_coordinates=True,\n",
        "        max_boxes_to_draw=200,\n",
        "        min_score_thresh=threshold,\n",
        "        agnostic_mode=False,\n",
        "  )\n",
        "\n",
        "  if save_file==True:\n",
        "    cv2.imwrite(out_path,img_detected)\n",
        "  \n",
        "  fig,ax = plt.subplots(1,2,figsize=(14,6))\n",
        "  ax[0].imshow(img)\n",
        "  ax[0].set_title('Original Image')\n",
        "  ax[1].imshow(image_np_with_detections)\n",
        "  ax[1].set_title('Image with detections')\n",
        "  if save_fig==True:\n",
        "    fig.savefig(out_path)\n",
        "  # plt.tight_layout()\n",
        "  plt.show()\n",
        "  script_end = time.time()\n",
        "  print('Time taken for detection : '+str(round(time_taken,4))+'s\\n')\n",
        "  print('Time taken for whole script : '+str(round(script_end-script_start,4))+'s')"
      ],
      "execution_count": 48,
      "outputs": []
    },
    {
      "cell_type": "markdown",
      "metadata": {
        "id": "5uuaDPtYkm2C",
        "colab_type": "text"
      },
      "source": [
        "### **Detections**"
      ]
    },
    {
      "cell_type": "code",
      "metadata": {
        "id": "Ag68waTKiDWi",
        "colab_type": "code",
        "colab": {
          "base_uri": "https://localhost:8080/",
          "height": 861
        },
        "outputId": "3004b22c-c354-4db5-c685-710dd9eabbd7"
      },
      "source": [
        "detect_fg() # Use this for detection. The very first detection you run takes a bit longer. You can see the time taken printed at the end."
      ],
      "execution_count": 55,
      "outputs": [
        {
          "output_type": "stream",
          "text": [
            "No image path given, selecting a random molecule from pubchem with cid : 38545\n",
            "\n",
            " Here are some details about the compound : \n",
            "\n",
            "+-------------------+---------------------------+\n",
            "|      Property     |           Value           |\n",
            "+-------------------+---------------------------+\n",
            "| Molecular Formula |         C12H17BrIN        |\n",
            "|  Molecular Weight |           382.08          |\n",
            "|     IUPAC name    | N-[(2-bromophenyl)methyl] |\n",
            "|                   | -N-ethyl-3-iodopropan-1-a |\n",
            "|                   |            mine           |\n",
            "|  Isomeric smiles  |  CCN(CCCI)CC1=CC=CC=C1Br  |\n",
            "+-------------------+---------------------------+\n",
            "\n",
            "Detecting on random_compound.png\n",
            "\n",
            "+------------------+-------------------+-------------------------------+\n",
            "| Functional Group |   Confidence (%)  |    Bounding Box Coordinates   |\n",
            "+------------------+-------------------+-------------------------------+\n",
            "|   benzene_ring   |  97.0211386680603 | [60.2   31.126 84.625 53.425] |\n",
            "|     halogen      |  80.7228684425354 | [ 7.28  64.546 16.323 73.778] |\n",
            "|      amine       | 79.81804609298706 | [38.799 46.285 50.833 58.029] |\n",
            "|     halogen      | 71.44315242767334 | [57.219 19.137 64.917 28.21 ] |\n",
            "+------------------+-------------------+-------------------------------+\n"
          ],
          "name": "stdout"
        },
        {
          "output_type": "display_data",
          "data": {
            "image/png": "[encoded data removed]",
            "text/plain": [
              "<Figure size 1008x432 with 2 Axes>"
            ]
          },
          "metadata": {
            "tags": [],
            "needs_background": "light"
          }
        },
        {
          "output_type": "stream",
          "text": [
            "Time taken for detection : 0.4273s\n",
            "\n",
            "Time taken for whole script : 2.9709s\n"
          ],
          "name": "stdout"
        }
      ]
    },
    {
      "cell_type": "code",
      "metadata": {
        "id": "wnzhvytgj2op",
        "colab_type": "code",
        "colab": {
          "base_uri": "https://localhost:8080/",
          "height": 777
        },
        "outputId": "c8ec038e-057a-4e39-9e43-55f459836019"
      },
      "source": [
        "# You can also use a an image file from /content/Functional_Group_Detector_using_Tensorflow_object_detection/test_images folder\n",
        "# currently I have set it to choose a random image from the folder.\n",
        "\n",
        "detect_fg(random.choice(glob.glob('/content/Functional_Group_Detector_using_Tensorflow_object_detection/test_images/*.png')))"
      ],
      "execution_count": 56,
      "outputs": [
        {
          "output_type": "stream",
          "text": [
            "Getting compound details for the cid number : 90671 from PubChem.\n",
            "+-------------------+--------------------------+\n",
            "|      Property     |          Value           |\n",
            "+-------------------+--------------------------+\n",
            "| Molecular Formula |         C6H4Cl2S         |\n",
            "|  Molecular Weight |          179.07          |\n",
            "|     IUPAC name    | 2,6-dichlorobenzenethiol |\n",
            "|  Isomeric smiles  |  C1=CC(=C(C(=C1)Cl)S)Cl  |\n",
            "+-------------------+--------------------------+\n",
            "\n",
            "Detecting on 90671.png\n",
            "\n",
            "+------------------+-------------------+-------------------------------+\n",
            "| Functional Group |   Confidence (%)  |    Bounding Box Coordinates   |\n",
            "+------------------+-------------------+-------------------------------+\n",
            "|   benzene_ring   | 91.56619310379028 | [42.036 38.823 66.463 61.153] |\n",
            "|      thiol       | 84.68292355537415 | [23.042 47.218 35.392 58.807] |\n",
            "|     halogen      |  77.688068151474  | [38.156 27.747 47.284 35.764] |\n",
            "|     halogen      | 76.06854438781738 | [38.434 66.289 46.337 73.423] |\n",
            "+------------------+-------------------+-------------------------------+\n"
          ],
          "name": "stdout"
        },
        {
          "output_type": "display_data",
          "data": {
            "image/png": "[encoded data removed]",
            "text/plain": [
              "<Figure size 1008x432 with 2 Axes>"
            ]
          },
          "metadata": {
            "tags": [],
            "needs_background": "light"
          }
        },
        {
          "output_type": "stream",
          "text": [
            "Time taken for detection : 0.4372s\n",
            "\n",
            "Time taken for whole script : 1.9117s\n"
          ],
          "name": "stdout"
        }
      ]
    },
    {
      "cell_type": "code",
      "metadata": {
        "id": "VeOfnlc2iN7-",
        "colab_type": "code",
        "colab": {
          "base_uri": "https://localhost:8080/",
          "height": 726
        },
        "outputId": "d2fa2039-9e06-4061-9c50-c47e6d3be3ae"
      },
      "source": [
        "detect_fg('/content/Functional_Group_Detector_using_Tensorflow_object_detection/test_images/8184.png')"
      ],
      "execution_count": 52,
      "outputs": [
        {
          "output_type": "stream",
          "text": [
            "Getting compound details for the cid number : 8184 from PubChem.\n",
            "+-------------------+--------------+\n",
            "|      Property     |    Value     |\n",
            "+-------------------+--------------+\n",
            "| Molecular Formula |   C11H24O    |\n",
            "|  Molecular Weight |    172.31    |\n",
            "|     IUPAC name    | undecan-1-ol |\n",
            "|  Isomeric smiles  | CCCCCCCCCCCO |\n",
            "+-------------------+--------------+\n",
            "\n",
            "Detecting on 8184.png\n",
            "\n",
            "+------------------+-------------------+-------------------------------+\n",
            "| Functional Group |   Confidence (%)  |    Bounding Box Coordinates   |\n",
            "+------------------+-------------------+-------------------------------+\n",
            "|     alcohol      | 83.39191675186157 | [45.112  3.092 52.623 14.628] |\n",
            "+------------------+-------------------+-------------------------------+\n"
          ],
          "name": "stdout"
        },
        {
          "output_type": "display_data",
          "data": {
            "image/png": "[encoded data removed]",
            "text/plain": [
              "<Figure size 1008x432 with 2 Axes>"
            ]
          },
          "metadata": {
            "tags": [],
            "needs_background": "light"
          }
        },
        {
          "output_type": "stream",
          "text": [
            "Time taken for detection : 0.4232s\n",
            "\n",
            "Time taken for whole script : 2.0757s\n"
          ],
          "name": "stdout"
        }
      ]
    },
    {
      "cell_type": "code",
      "metadata": {
        "id": "k1Ypoy2onpm2",
        "colab_type": "code",
        "colab": {}
      },
      "source": [
        ""
      ],
      "execution_count": null,
      "outputs": []
    }
  ]
}