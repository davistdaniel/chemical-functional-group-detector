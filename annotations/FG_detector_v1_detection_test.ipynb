{
  "nbformat": 4,
  "nbformat_minor": 0,
  "metadata": {
    "colab": {
      "name": "FG_detector_v1_detection_test.ipynb",
      "provenance": [],
      "collapsed_sections": []
    },
    "kernelspec": {
      "name": "python3",
      "display_name": "Python 3"
    }
  },
  "cells": [
    {
      "cell_type": "markdown",
      "metadata": {
        "id": "YdvPYgoocfoa",
        "colab_type": "text"
      },
      "source": [
        "# FG_Detector_v1\n",
        "**An organic functional group detector using Tensorflow's object detection API.**\n",
        "\n",
        "By Davis Thomas Daniel\n",
        "\n",
        "Email :  forall2087@gmail.com\n",
        "\n",
        "\n",
        "In organic chemistry, [functional groups](https://en.wikipedia.org/wiki/Functional_group) are specific substituents or moieties \n",
        "within molecules that may be responsible for the characteristic chemical reactions of those molecules.\n",
        "\n",
        "FG detector is chemical fucntional group object detector based on Tensorflow object detection API. \n",
        "The detection model was trained using transfer learning from 'ssd_efficientdet_d0_512x512_coco17_tpu-8'.  \n",
        "\n",
        "The training dataset comprised of 300x300 sized .png images from PubChem.\n",
        "Currently, the model detects the following groups : \n",
        "* Alcohol\n",
        "* Aldehyde\n",
        "* Amine\n",
        "* Amide\n",
        "* Carboxylic Acid\n",
        "* Ester\n",
        "* Ether\n",
        "* Ketone\n",
        "* Double bonds\n",
        "* Benzene Ring\n",
        "* Halogen\n",
        "* Thiol\n",
        "\n",
        "\n",
        "*Use shift+enter to run each cell, Run all cells.*\n",
        "\n",
        "1. Don't change an of the defined paths.\n",
        "2. The function `detect_fg()` downloads an image from pubchem if no filepath is given. Of course, you can also run with an image path specified. Two examples runs are done at the end.\n",
        "3. All cells should be run sequentially and should not give out any errors.\n",
        "4. Changing the runtime to 'GPU' is not really necessary. \n",
        "\n",
        "*Detection time with GPU : ~0.06s*\n",
        "\n",
        "*Detection time without GPU : ~0.40s* \n",
        "\n"
      ]
    },
    {
      "cell_type": "markdown",
      "metadata": {
        "id": "k8JclnzOdULV",
        "colab_type": "text"
      },
      "source": [
        "### **Download all required files and repositories.**\n"
      ]
    },
    {
      "cell_type": "code",
      "metadata": {
        "id": "G-t0hsxkb9G4",
        "colab_type": "code",
        "colab": {}
      },
      "source": [
        "!pip install pubchempy\n",
        "import os\n",
        "import pathlib\n",
        "\n",
        "# Clone the tensorflow models repository if it doesn't already exist\n",
        "if \"models\" in pathlib.Path.cwd().parts:\n",
        "  while \"models\" in pathlib.Path.cwd().parts:\n",
        "    os.chdir('..')\n",
        "elif not pathlib.Path('models').exists():\n",
        "  !git clone --depth 1 https://github.com/davistdaniel/models"
      ],
      "execution_count": null,
      "outputs": []
    },
    {
      "cell_type": "markdown",
      "metadata": {
        "id": "SxLhD7lQd_tt",
        "colab_type": "text"
      },
      "source": [
        "### **Set up the object detection API**"
      ]
    },
    {
      "cell_type": "code",
      "metadata": {
        "id": "ZEXlnbBUd6_3",
        "colab_type": "code",
        "colab": {}
      },
      "source": [
        "%%bash\n",
        "cd models/research/\n",
        "protoc object_detection/protos/*.proto --python_out=.\n",
        "cp object_detection/packages/tf2/setup.py .\n",
        "python -m pip install .\n",
        "\n",
        "# Long output, warnings."
      ],
      "execution_count": null,
      "outputs": []
    },
    {
      "cell_type": "markdown",
      "metadata": {
        "id": "KaBw8XtUeTik",
        "colab_type": "text"
      },
      "source": [
        "### **Download the trained model**"
      ]
    },
    {
      "cell_type": "code",
      "metadata": {
        "id": "WOP5_HxVeE3e",
        "colab_type": "code",
        "colab": {
          "base_uri": "https://localhost:8080/",
          "height": 134
        },
        "outputId": "4d124af6-98c0-4089-c7bf-1674e50675d9"
      },
      "source": [
        "!rm -rf /content/Functional_Group_Detector_using_Tensorflow_object_detection\n",
        "!git clone https://github.com/davistdaniel/Functional_Group_Detector_using_Tensorflow_object_detection.git"
      ],
      "execution_count": 11,
      "outputs": [
        {
          "output_type": "stream",
          "text": [
            "Cloning into 'Functional_Group_Detector_using_Tensorflow_object_detection'...\n",
            "remote: Enumerating objects: 124, done.\u001b[K\n",
            "remote: Counting objects: 100% (124/124), done.\u001b[K\n",
            "remote: Compressing objects: 100% (118/118), done.\u001b[K\n",
            "remote: Total 124 (delta 5), reused 124 (delta 5), pack-reused 0\u001b[K\n",
            "Receiving objects: 100% (124/124), 15.32 MiB | 7.30 MiB/s, done.\n",
            "Resolving deltas: 100% (5/5), done.\n"
          ],
          "name": "stdout"
        }
      ]
    },
    {
      "cell_type": "code",
      "metadata": {
        "id": "7LeK14ECgqrf",
        "colab_type": "code",
        "colab": {}
      },
      "source": [
        "checkpoint_dir = '/content/Functional_Group_Detector_using_Tensorflow_object_detection/EXPORTED_model_based_on_ssd_efficientdet_d0_512x512_coco17_tpu-8/checkpoint' # enther saved models checkpoint path here.\n",
        "pipeline_file = '/content/Functional_Group_Detector_using_Tensorflow_object_detection/EXPORTED_model_based_on_ssd_efficientdet_d0_512x512_coco17_tpu-8/pipeline.config' # enter saved models pipeline config path here."
      ],
      "execution_count": 12,
      "outputs": []
    },
    {
      "cell_type": "code",
      "metadata": {
        "id": "sbozQb3uiRHe",
        "colab_type": "code",
        "colab": {}
      },
      "source": [
        "\n",
        "import matplotlib\n",
        "import matplotlib.pyplot as plt\n",
        "\n",
        "import io\n",
        "import scipy.misc\n",
        "import numpy as np\n",
        "from six import BytesIO\n",
        "from PIL import Image, ImageDraw, ImageFont\n",
        "\n",
        "import tensorflow as tf\n",
        "from tensorflow import keras\n",
        "import glob\n",
        "import random\n",
        "import cv2\n",
        "import textwrap\n",
        "import shutil\n",
        "from object_detection.utils import label_map_util\n",
        "from object_detection.utils import config_util\n",
        "from object_detection.utils import visualization_utils as viz_utils\n",
        "from object_detection.builders import model_builder\n",
        "\n",
        "%matplotlib inline"
      ],
      "execution_count": 13,
      "outputs": []
    },
    {
      "cell_type": "markdown",
      "metadata": {
        "id": "SXdBEPZ-2Vqo",
        "colab_type": "text"
      },
      "source": [
        "### **Restore a saved model and define a prediction function.**"
      ]
    },
    {
      "cell_type": "markdown",
      "metadata": {
        "id": "WBE3_-4Plqc5",
        "colab_type": "text"
      },
      "source": [
        "You will see a lot of warnings in the output, never mind."
      ]
    },
    {
      "cell_type": "code",
      "metadata": {
        "id": "r8KDrZiz1lKy",
        "colab_type": "code",
        "colab": {}
      },
      "source": [
        "#recover our saved model\n",
        "\n",
        "pipeline_config = pipeline_file\n",
        "model_dir = tf.train.latest_checkpoint(checkpoint_dir)\n",
        "configs = config_util.get_configs_from_pipeline_file(pipeline_config)\n",
        "model_config = configs['model']\n",
        "detection_model = model_builder.build(\n",
        "      model_config=model_config, is_training=False)\n",
        "\n",
        "# Restore checkpoint\n",
        "ckpt = tf.compat.v2.train.Checkpoint(\n",
        "      model=detection_model)\n",
        "ckpt.restore(tf.train.latest_checkpoint(checkpoint_dir))\n",
        "\n",
        "# defining a detect function\n",
        "def get_model_detection_function(model):\n",
        "  \"\"\"Get a tf.function for detection.\"\"\"\n",
        "\n",
        "  @tf.function\n",
        "  def detect_fn(image):\n",
        "    \"\"\"Detect objects in image.\"\"\"\n",
        "\n",
        "    image, shapes = model.preprocess(image)\n",
        "    prediction_dict = model.predict(image, shapes)\n",
        "    detections = model.postprocess(prediction_dict, shapes)\n",
        "\n",
        "    return detections, prediction_dict, tf.reshape(shapes, [-1])\n",
        "\n",
        "  return detect_fn\n",
        "\n",
        "detect_fn = get_model_detection_function(detection_model)\n",
        "\n",
        "\n",
        "# This is needed for plotting.\n",
        "label_map_path = '/content/Functional_Group_Detector_using_Tensorflow_object_detection/annotations/label_map.pbtxt'\n",
        "label_map = label_map_util.load_labelmap(label_map_path)\n",
        "categories = label_map_util.convert_label_map_to_categories(\n",
        "    label_map,\n",
        "    max_num_classes=label_map_util.get_max_label_map_index(label_map),\n",
        "    use_display_name=True)\n",
        "category_index = label_map_util.create_category_index(categories)\n",
        "label_map_dict = label_map_util.get_label_map_dict(label_map, use_display_name=True)"
      ],
      "execution_count": null,
      "outputs": []
    },
    {
      "cell_type": "code",
      "metadata": {
        "id": "NGxa3sXd9TBr",
        "colab_type": "code",
        "colab": {}
      },
      "source": [
        ""
      ],
      "execution_count": 15,
      "outputs": []
    },
    {
      "cell_type": "markdown",
      "metadata": {
        "id": "aFeeCfc9GqLH",
        "colab_type": "text"
      },
      "source": [
        "### **A function for detection and saving at once.**"
      ]
    },
    {
      "cell_type": "code",
      "metadata": {
        "id": "t6V-DgpRGyd5",
        "colab_type": "code",
        "colab": {}
      },
      "source": [
        "def detect_fg(img_path=None,out_path = 'detected_img.png',save_file=False,threshold=0.50,save_fig=False):\n",
        "  \n",
        "  #some initial stuff\n",
        "  from prettytable import PrettyTable\n",
        "  iupacname = ''\n",
        "  \n",
        "  # selecting random molecule\n",
        "  if img_path==None:\n",
        "    import textwrap\n",
        "    import pubchempy as pcp\n",
        "    ## getting a random cid.\n",
        "    cid = random.choice(range(random.choice(range(25,15000)),random.choice(range(15000,150000))))\n",
        "    c = pcp.Compound.from_cid(cid)\n",
        "    \n",
        "    ## some text printed\n",
        "    print('No image path given, selecting a random molecule from pubchem with cid : '\n",
        "    +str(cid)\n",
        "    +'\\n\\n Here are some details about the compound : \\n')\n",
        "\n",
        "    # the random molecule is downloaded.\n",
        "    pcp.download('PNG', '/content/random_compound.png', cid, overwrite=True)\n",
        "    iupacname = '\\n of '+c.iupac_name\n",
        "    if len(iupacname) > 25:\n",
        "      iupacname=''\n",
        "\n",
        "    # image path is set.\n",
        "    img_path = '/content/random_compound.png'\n",
        "\n",
        "    # table with chemical characteristics of the compound.\n",
        "    table0 = PrettyTable(['Property','Value'])\n",
        "    table0.add_row(['Molecular Formula',c.molecular_formula])\n",
        "    table0.add_row(['Molecular Weight',c.molecular_weight])\n",
        "    table0.add_row(['IUPCA name',textwrap.fill(c.iupac_name,25)])\n",
        "    table0.add_row(['Isomeric smiles',textwrap.fill(c.isomeric_smiles,25)])\n",
        "    print(table0)\n",
        "  \n",
        "  # starting detection\n",
        "  import time\n",
        "  \n",
        "  print('\\nDetecting on '+img_path.split('/')[-1]+'\\n')\n",
        "  \n",
        "  img = keras.preprocessing.image.load_img(img_path, target_size=None)\n",
        "  image_np = keras.preprocessing.image.img_to_array(img)\n",
        "\n",
        "  # Convert image to grayscale\n",
        "\n",
        "  image_np = np.tile(\n",
        "      np.mean(image_np, 2, keepdims=True), (1, 1, 3)).astype(np.uint8)\n",
        "  \n",
        "  #generate the input tensor\n",
        "  input_tensor = tf.convert_to_tensor(\n",
        "      np.expand_dims(image_np, 0), dtype=tf.float32)\n",
        "\n",
        "  #detect\n",
        "  start_time = time.time()\n",
        "  detections, predictions_dict, shapes = detect_fn(input_tensor)\n",
        "  end_time = time.time()\n",
        "\n",
        "  time_taken = end_time-start_time\n",
        "  #making a copy of image\n",
        "  label_id_offset = 1\n",
        "  image_np_with_detections = image_np.copy()\n",
        "\n",
        "  # setting some arrays\n",
        "  detection_scores = detections['detection_scores'][0]\n",
        "  detection_classes = detections['detection_classes'][0]\n",
        "  \n",
        "  # Making a table of detections\n",
        "  table1 = PrettyTable(['Functional Group',\n",
        "                        'Confidence (%)',\n",
        "                        'Bounding Box Coordinates'])\n",
        "  \n",
        "  for i in range(len(detection_scores)):\n",
        "    if detection_scores[i].numpy() > threshold:\n",
        "      table1.add_row([category_index[detection_classes[i].numpy()+1]['name'],\n",
        "                      detection_scores[i].numpy()*100,\n",
        "                      str(np.round(detections['detection_boxes'][0].numpy()[i]*100,3))])\n",
        "      \n",
        "      # legend_array.append(category_index[detection_classes[i].numpy()+1]['name']\n",
        "      #       +' : '+str(detection_scores[i].numpy()*100))\n",
        "      # print(category_index[detection_classes[i].numpy()+1]['name']\n",
        "      #       +' : '+str(detection_scores[i].numpy()*100)+' : '+str(np.round(detections['detection_boxes'][0].numpy()[i]*100,3)))\n",
        "  \n",
        "  print(table1)   \n",
        "  \n",
        "  \n",
        "  #plotting\n",
        "  img_detected = viz_utils.visualize_boxes_and_labels_on_image_array(\n",
        "        image_np_with_detections,\n",
        "        detections['detection_boxes'][0].numpy(),\n",
        "        (detections['detection_classes'][0].numpy() + label_id_offset).astype(int),\n",
        "        detections['detection_scores'][0].numpy(),\n",
        "        category_index,\n",
        "        use_normalized_coordinates=True,\n",
        "        max_boxes_to_draw=200,\n",
        "        min_score_thresh=threshold,\n",
        "        agnostic_mode=False,\n",
        "  )\n",
        "\n",
        "  if save_file==True:\n",
        "    cv2.imwrite(out_path,img_detected)\n",
        "  \n",
        "  fig,ax = plt.subplots(1,2,figsize=(14,6))\n",
        "  ax[0].imshow(img)\n",
        "  ax[0].set_title('Original Image'+iupacname)\n",
        "  ax[1].imshow(image_np_with_detections)\n",
        "  ax[1].set_title('Image with detections')\n",
        "  if save_fig==True:\n",
        "    fig.savefig(out_path)\n",
        "  # plt.tight_layout()\n",
        "  plt.show()\n",
        "  print('Time taken for detection : '+str(time_taken)+'s')\n"
      ],
      "execution_count": 19,
      "outputs": []
    },
    {
      "cell_type": "markdown",
      "metadata": {
        "id": "5uuaDPtYkm2C",
        "colab_type": "text"
      },
      "source": [
        "### **Detections**"
      ]
    },
    {
      "cell_type": "code",
      "metadata": {
        "id": "Ag68waTKiDWi",
        "colab_type": "code",
        "colab": {
          "base_uri": "https://localhost:8080/",
          "height": 724
        },
        "outputId": "ffc260ef-6408-45c2-f6a9-e154982654e4"
      },
      "source": [
        "detect_fg() # Use this for detection."
      ],
      "execution_count": 23,
      "outputs": [
        {
          "output_type": "stream",
          "text": [
            "No image path given, selecting a random molecule from pubchem with cid : 40729\n",
            "\n",
            " Here are some details about the compound : \n",
            "\n",
            "+-------------------+---------------------------+\n",
            "|      Property     |           Value           |\n",
            "+-------------------+---------------------------+\n",
            "| Molecular Formula |          C8H7NO2          |\n",
            "|  Molecular Weight |           149.15          |\n",
            "|     IUPCA name    | 2-hydroxy-2-(3-hydroxyphe |\n",
            "|                   |      nyl)acetonitrile     |\n",
            "|  Isomeric smiles  |  C1=CC(=CC(=C1)O)C(C#N)O  |\n",
            "+-------------------+---------------------------+\n",
            "\n",
            "Detecting on random_compound.png\n",
            "\n",
            "+------------------+-------------------+-------------------------------+\n",
            "| Functional Group |   Confidence (%)  |    Bounding Box Coordinates   |\n",
            "+------------------+-------------------+-------------------------------+\n",
            "|   benzene_ring   | 96.06616497039795 | [45.874 40.259 71.147 63.716] |\n",
            "|     alcohol      | 91.53512120246887 | [20.426 56.554 35.444 65.492] |\n",
            "|     alcohol      |  90.9822940826416 | [64.65  28.629 80.047 37.031] |\n",
            "+------------------+-------------------+-------------------------------+\n"
          ],
          "name": "stdout"
        },
        {
          "output_type": "display_data",
          "data": {
            "image/png": "[encoded data removed]",
            "text/plain": [
              "<Figure size 1008x432 with 2 Axes>"
            ]
          },
          "metadata": {
            "tags": [],
            "needs_background": "light"
          }
        },
        {
          "output_type": "stream",
          "text": [
            "Time taken for detection : 0.42710208892822266s\n"
          ],
          "name": "stdout"
        }
      ]
    },
    {
      "cell_type": "code",
      "metadata": {
        "id": "wnzhvytgj2op",
        "colab_type": "code",
        "colab": {
          "base_uri": "https://localhost:8080/",
          "height": 489
        },
        "outputId": "c40f9507-177e-4488-d1f5-705aa86ec5f9"
      },
      "source": [
        "# You can also use a an image file from test_files folder\n",
        "detect_fg('/content/Functional_Group_Detector_using_Tensorflow_object_detection/test_images/8145.png')"
      ],
      "execution_count": 22,
      "outputs": [
        {
          "output_type": "stream",
          "text": [
            "\n",
            "Detecting on 8145.png\n",
            "\n",
            "+------------------+-------------------+-------------------------------+\n",
            "| Functional Group |   Confidence (%)  |    Bounding Box Coordinates   |\n",
            "+------------------+-------------------+-------------------------------+\n",
            "|      ether       | 80.92215061187744 | [43.742 72.597 52.145 84.998] |\n",
            "|      ether       | 79.45818305015564 | [43.649 15.438 52.035 27.135] |\n",
            "+------------------+-------------------+-------------------------------+\n"
          ],
          "name": "stdout"
        },
        {
          "output_type": "display_data",
          "data": {
            "image/png": "[encoded data removed]",
            "text/plain": [
              "<Figure size 1008x432 with 2 Axes>"
            ]
          },
          "metadata": {
            "tags": [],
            "needs_background": "light"
          }
        },
        {
          "output_type": "stream",
          "text": [
            "Time taken for detection : 0.4207329750061035s\n"
          ],
          "name": "stdout"
        }
      ]
    },
    {
      "cell_type": "code",
      "metadata": {
        "id": "Rd6pE_-llIbC",
        "colab_type": "code",
        "colab": {}
      },
      "source": [
        ""
      ],
      "execution_count": null,
      "outputs": []
    }
  ]
}